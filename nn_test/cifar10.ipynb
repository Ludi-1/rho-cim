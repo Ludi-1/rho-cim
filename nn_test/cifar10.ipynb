{
 "cells": [
  {
   "cell_type": "code",
   "execution_count": 2,
   "metadata": {},
   "outputs": [
    {
     "name": "stderr",
     "output_type": "stream",
     "text": [
      "2024-06-09 23:36:36.139677: I tensorflow/tsl/cuda/cudart_stub.cc:28] Could not find cuda drivers on your machine, GPU will not be used.\n",
      "2024-06-09 23:36:36.514840: I tensorflow/tsl/cuda/cudart_stub.cc:28] Could not find cuda drivers on your machine, GPU will not be used.\n",
      "2024-06-09 23:36:36.516004: I tensorflow/core/platform/cpu_feature_guard.cc:182] This TensorFlow binary is optimized to use available CPU instructions in performance-critical operations.\n",
      "To enable the following instructions: AVX2 FMA, in other operations, rebuild TensorFlow with the appropriate compiler flags.\n",
      "2024-06-09 23:36:37.467515: W tensorflow/compiler/tf2tensorrt/utils/py_utils.cc:38] TF-TRT Warning: Could not find TensorRT\n"
     ]
    }
   ],
   "source": [
    "import numpy as np\n",
    "import tensorflow as tf\n",
    "from tensorflow.keras import datasets, layers, models, losses"
   ]
  },
  {
   "cell_type": "code",
   "execution_count": 3,
   "metadata": {},
   "outputs": [
    {
     "name": "stdout",
     "output_type": "stream",
     "text": [
      "Training data shape: (50000, 32, 32, 3)\n",
      "Training labels shape: (50000, 1)\n",
      "Test data shape: (10000, 32, 32, 3)\n",
      "Test labels shape: (10000, 1)\n"
     ]
    }
   ],
   "source": [
    "(x_train, y_train), (x_test, y_test) = tf.keras.datasets.cifar10.load_data()\n",
    "\n",
    "# Normalize the pixel values to be between 0 and 1\n",
    "x_train, x_test = x_train / 255.0, x_test / 255.0\n",
    "\n",
    "print(\"Training data shape:\", x_train.shape)\n",
    "print(\"Training labels shape:\", y_train.shape)\n",
    "print(\"Test data shape:\", x_test.shape)\n",
    "print(\"Test labels shape:\", y_test.shape)"
   ]
  },
  {
   "cell_type": "code",
   "execution_count": 95,
   "metadata": {},
   "outputs": [
    {
     "name": "stdout",
     "output_type": "stream",
     "text": [
      "Model: \"sequential_91\"\n",
      "_________________________________________________________________\n",
      " Layer (type)                Output Shape              Param #   \n",
      "=================================================================\n",
      " conv2d_439 (Conv2D)         (None, 8, 8, 64)          23296     \n",
      "                                                                 \n",
      " activation_438 (Activation)  (None, 8, 8, 64)         0         \n",
      "                                                                 \n",
      " max_pooling2d_265 (MaxPooli  (None, 4, 4, 64)         0         \n",
      " ng2D)                                                           \n",
      "                                                                 \n",
      " zero_padding2d_33 (ZeroPadd  (None, 8, 8, 64)         0         \n",
      " ing2D)                                                          \n",
      "                                                                 \n",
      " conv2d_440 (Conv2D)         (None, 4, 4, 192)         307392    \n",
      "                                                                 \n",
      " activation_439 (Activation)  (None, 4, 4, 192)        0         \n",
      "                                                                 \n",
      " max_pooling2d_266 (MaxPooli  (None, 2, 2, 192)        0         \n",
      " ng2D)                                                           \n",
      "                                                                 \n",
      " conv2d_441 (Conv2D)         (None, 2, 2, 384)         663936    \n",
      "                                                                 \n",
      " activation_440 (Activation)  (None, 2, 2, 384)        0         \n",
      "                                                                 \n",
      " conv2d_442 (Conv2D)         (None, 2, 2, 256)         884992    \n",
      "                                                                 \n",
      " activation_441 (Activation)  (None, 2, 2, 256)        0         \n",
      "                                                                 \n",
      " conv2d_443 (Conv2D)         (None, 2, 2, 256)         590080    \n",
      "                                                                 \n",
      " activation_442 (Activation)  (None, 2, 2, 256)        0         \n",
      "                                                                 \n",
      " max_pooling2d_267 (MaxPooli  (None, 1, 1, 256)        0         \n",
      " ng2D)                                                           \n",
      "                                                                 \n",
      " flatten_48 (Flatten)        (None, 256)               0         \n",
      "                                                                 \n",
      " dense_144 (Dense)           (None, 4096)              1052672   \n",
      "                                                                 \n",
      " dense_145 (Dense)           (None, 4096)              16781312  \n",
      "                                                                 \n",
      " dense_146 (Dense)           (None, 10)                40970     \n",
      "                                                                 \n",
      "=================================================================\n",
      "Total params: 20,344,650\n",
      "Trainable params: 20,344,650\n",
      "Non-trainable params: 0\n",
      "_________________________________________________________________\n"
     ]
    }
   ],
   "source": [
    "model = models.Sequential()\n",
    "# model.add(tf.keras.layers.ZeroPadding2D(padding=(2, 2), input_shape=(32, 32, 3)))\n",
    "model.add(layers.Conv2D(64, 11, strides=3, padding='valid', input_shape=(32, 32, 3)))\n",
    "model.add(layers.Activation('relu'))\n",
    "model.add(layers.MaxPooling2D(2, strides=2))\n",
    "model.add(tf.keras.layers.ZeroPadding2D(padding=(2, 2)))\n",
    "model.add(layers.Conv2D(192, 5, strides=1, padding='valid'))\n",
    "model.add(layers.Activation('relu'))\n",
    "model.add(layers.MaxPooling2D(2, strides=2))\n",
    "model.add(layers.Conv2D(384, 3, strides=1, padding='same'))\n",
    "model.add(layers.Activation('relu'))\n",
    "model.add(layers.Conv2D(256, 3, strides=1, padding='same'))\n",
    "model.add(layers.Activation('relu'))\n",
    "model.add(layers.Conv2D(256, 3, strides=1, padding='same'))\n",
    "model.add(layers.Activation('relu'))\n",
    "model.add(layers.MaxPooling2D(2, strides=2))\n",
    "model.add(layers.Flatten())\n",
    "model.add(layers.Dense(4096, activation='relu'))\n",
    "model.add(layers.Dense(4096, activation='relu'))\n",
    "model.add(layers.Dense(10, activation='softmax'))\n",
    "model.build()\n",
    "model.summary()"
   ]
  },
  {
   "cell_type": "code",
   "execution_count": null,
   "metadata": {},
   "outputs": [],
   "source": []
  }
 ],
 "metadata": {
  "kernelspec": {
   "display_name": "Python 3",
   "language": "python",
   "name": "python3"
  },
  "language_info": {
   "codemirror_mode": {
    "name": "ipython",
    "version": 3
   },
   "file_extension": ".py",
   "mimetype": "text/x-python",
   "name": "python",
   "nbconvert_exporter": "python",
   "pygments_lexer": "ipython3",
   "version": "3.8.10"
  }
 },
 "nbformat": 4,
 "nbformat_minor": 2
}
