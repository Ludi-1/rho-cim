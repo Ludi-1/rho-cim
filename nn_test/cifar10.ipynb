{
 "cells": [
  {
   "cell_type": "code",
   "execution_count": 4,
   "metadata": {},
   "outputs": [],
   "source": [
    "import numpy as np\n",
    "import tensorflow as tf\n",
    "from tensorflow.keras import datasets, layers, models, losses"
   ]
  },
  {
   "cell_type": "code",
   "execution_count": 3,
   "metadata": {},
   "outputs": [
    {
     "name": "stdout",
     "output_type": "stream",
     "text": [
      "Downloading data from https://www.cs.toronto.edu/~kriz/cifar-10-python.tar.gz\n",
      "170498071/170498071 [==============================] - 8s 0us/step\n",
      "Training data shape: (50000, 32, 32, 3)\n",
      "Training labels shape: (50000, 1)\n",
      "Test data shape: (10000, 32, 32, 3)\n",
      "Test labels shape: (10000, 1)\n"
     ]
    }
   ],
   "source": [
    "(x_train, y_train), (x_test, y_test) = tf.keras.datasets.cifar10.load_data()\n",
    "\n",
    "# Normalize the pixel values to be between 0 and 1\n",
    "x_train, x_test = x_train / 255.0, x_test / 255.0\n",
    "\n",
    "print(\"Training data shape:\", x_train.shape)\n",
    "print(\"Training labels shape:\", y_train.shape)\n",
    "print(\"Test data shape:\", x_test.shape)\n",
    "print(\"Test labels shape:\", y_test.shape)"
   ]
  },
  {
   "cell_type": "code",
   "execution_count": null,
   "metadata": {},
   "outputs": [],
   "source": []
  },
  {
   "cell_type": "code",
   "execution_count": 34,
   "metadata": {},
   "outputs": [
    {
     "name": "stdout",
     "output_type": "stream",
     "text": [
      "Model: \"sequential_28\"\n",
      "_________________________________________________________________\n",
      " Layer (type)                Output Shape              Param #   \n",
      "=================================================================\n",
      " conv2d_87 (Conv2D)          (None, 30, 30, 64)        1792      \n",
      "                                                                 \n",
      " activation_70 (Activation)  (None, 30, 30, 64)        0         \n",
      "                                                                 \n",
      " max_pooling2d_51 (MaxPoolin  (None, 15, 15, 64)       0         \n",
      " g2D)                                                            \n",
      "                                                                 \n",
      " conv2d_88 (Conv2D)          (None, 15, 15, 192)       307392    \n",
      "                                                                 \n",
      " activation_71 (Activation)  (None, 15, 15, 192)       0         \n",
      "                                                                 \n",
      " max_pooling2d_52 (MaxPoolin  (None, 7, 7, 192)        0         \n",
      " g2D)                                                            \n",
      "                                                                 \n",
      " conv2d_89 (Conv2D)          (None, 7, 7, 384)         663936    \n",
      "                                                                 \n",
      " activation_72 (Activation)  (None, 7, 7, 384)         0         \n",
      "                                                                 \n",
      " conv2d_90 (Conv2D)          (None, 7, 7, 256)         884992    \n",
      "                                                                 \n",
      " activation_73 (Activation)  (None, 7, 7, 256)         0         \n",
      "                                                                 \n",
      " conv2d_91 (Conv2D)          (None, 7, 7, 256)         590080    \n",
      "                                                                 \n",
      " activation_74 (Activation)  (None, 7, 7, 256)         0         \n",
      "                                                                 \n",
      " max_pooling2d_53 (MaxPoolin  (None, 3, 3, 256)        0         \n",
      " g2D)                                                            \n",
      "                                                                 \n",
      " flatten_7 (Flatten)         (None, 2304)              0         \n",
      "                                                                 \n",
      " dense_21 (Dense)            (None, 4096)              9441280   \n",
      "                                                                 \n",
      " dense_22 (Dense)            (None, 4096)              16781312  \n",
      "                                                                 \n",
      " dense_23 (Dense)            (None, 10)                40970     \n",
      "                                                                 \n",
      "=================================================================\n",
      "Total params: 28,711,754\n",
      "Trainable params: 28,711,754\n",
      "Non-trainable params: 0\n",
      "_________________________________________________________________\n"
     ]
    }
   ],
   "source": [
    "model = models.Sequential()\n",
    "model.add(layers.Conv2D(64, 3, strides=1, padding='valid', input_shape=(32, 32, 3)))\n",
    "# model.add(layers.Lambda(tf.nn.local_response_normalization))\n",
    "model.add(layers.Activation('relu'))\n",
    "model.add(layers.MaxPooling2D(2, strides=2))\n",
    "# model.add(tf.keras.layers.ZeroPadding2D(padding=(2, 2)))\n",
    "model.add(layers.Conv2D(192, 5, strides=1, padding='same'))\n",
    "model.add(layers.Activation('relu'))\n",
    "model.add(layers.MaxPooling2D(2, strides=2))\n",
    "model.add(layers.Conv2D(384, 3, strides=1, padding='same'))\n",
    "model.add(layers.Activation('relu'))\n",
    "model.add(layers.Conv2D(256, 3, strides=1, padding='same'))\n",
    "model.add(layers.Activation('relu'))\n",
    "model.add(layers.Conv2D(256, 3, strides=1, padding='same'))\n",
    "model.add(layers.Activation('relu'))\n",
    "model.add(layers.MaxPooling2D(2, strides=2))\n",
    "model.add(layers.Flatten())\n",
    "model.add(layers.Dense(4096, activation='relu'))\n",
    "model.add(layers.Dense(4096, activation='relu'))\n",
    "model.add(layers.Dense(10, activation='softmax'))\n",
    "model.build()\n",
    "model.summary()"
   ]
  },
  {
   "cell_type": "code",
   "execution_count": null,
   "metadata": {},
   "outputs": [],
   "source": []
  }
 ],
 "metadata": {
  "kernelspec": {
   "display_name": "Python 3",
   "language": "python",
   "name": "python3"
  },
  "language_info": {
   "codemirror_mode": {
    "name": "ipython",
    "version": 3
   },
   "file_extension": ".py",
   "mimetype": "text/x-python",
   "name": "python",
   "nbconvert_exporter": "python",
   "pygments_lexer": "ipython3",
   "version": "3.8.10"
  }
 },
 "nbformat": 4,
 "nbformat_minor": 2
}
